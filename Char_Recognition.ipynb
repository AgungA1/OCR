{
  "nbformat": 4,
  "nbformat_minor": 0,
  "metadata": {
    "colab": {
      "provenance": [],
      "gpuType": "T4",
      "authorship_tag": "ABX9TyNiTN/bzNyrWxKsh8aKyUvZ",
      "include_colab_link": true
    },
    "kernelspec": {
      "name": "python3",
      "display_name": "Python 3"
    },
    "language_info": {
      "name": "python"
    },
    "accelerator": "GPU"
  },
  "cells": [
    {
      "cell_type": "markdown",
      "metadata": {
        "id": "view-in-github",
        "colab_type": "text"
      },
      "source": [
        "<a href=\"https://colab.research.google.com/github/AgungA1/OCR/blob/main/Char_Recognition.ipynb\" target=\"_parent\"><img src=\"https://colab.research.google.com/assets/colab-badge.svg\" alt=\"Open In Colab\"/></a>"
      ]
    },
    {
      "cell_type": "code",
      "execution_count": 1,
      "metadata": {
        "id": "Xu27lF9-zvM_",
        "colab": {
          "base_uri": "https://localhost:8080/"
        },
        "outputId": "a2933ce0-5c3b-470d-95cb-623e8cb090e0"
      },
      "outputs": [
        {
          "output_type": "stream",
          "name": "stdout",
          "text": [
            "Mounted at /content/drive\n"
          ]
        }
      ],
      "source": [
        "from google.colab import drive\n",
        "drive.mount('/content/drive')"
      ]
    },
    {
      "cell_type": "code",
      "source": [
        "import os\n",
        "from tqdm import tqdm\n",
        "import cv2\n",
        "import random\n",
        "import numpy as np\n",
        "import pickle\n",
        "from google.colab.patches import cv2_imshow\n",
        "\n",
        "# Direktori data training\n",
        "DATADIR = \"/content/drive/MyDrive/Colab Notebooks/Computer Vision/Tugas Akhir OCR/dataset/training/\"\n",
        "dirs = []\n",
        "training_data = []\n",
        "width, height = 100, 100\n",
        "\n",
        "# Looping direktori data training untuk diambil nama karakternya\n",
        "for char_name in sorted(os.listdir(DATADIR)):\n",
        "  dirs.append(char_name)\n",
        "\n",
        "# Looping semua image data training untuk diubah menjadi array\n",
        "for char_name in dirs:\n",
        "  path = os.path.join(DATADIR, char_name)\n",
        "  class_number = dirs.index(char_name)\n",
        "  for img in tqdm(os.listdir(path)):\n",
        "    try:\n",
        "      img_array = cv2.imread((os.path.join(path, img)), cv2.IMREAD_ANYCOLOR)\n",
        "      # gray = cv2.cvtColor(img_array, cv2.COLOR_BGR2GRAY)\n",
        "      new_array = cv2.resize(img_array, (width, height))\n",
        "      training_data.append([new_array, class_number])\n",
        "    except Exception as e:\n",
        "      print(e)\n",
        "\n",
        "random.shuffle(training_data)\n",
        "X = []\n",
        "Y = []\n",
        "\n",
        "for feature, label in training_data:\n",
        "  X.append(feature)\n",
        "  Y.append(label)\n",
        "\n",
        "X = np.array(X).reshape(-1, width, height, 3)\n",
        "\n",
        "# Tulis ke file pickle\n",
        "pickle_out = open(\"X.pickle\", \"wb\")\n",
        "pickle.dump(X, pickle_out)\n",
        "pickle_out.close()\n",
        "pickle_out = open(\"Y.pickle\", \"wb\")\n",
        "pickle.dump(Y, pickle_out)\n",
        "pickle_out.close()"
      ],
      "metadata": {
        "colab": {
          "base_uri": "https://localhost:8080/"
        },
        "id": "bey0mmDtBUK1",
        "outputId": "420bbd2d-26a7-491b-ce76-7cf6c494b581"
      },
      "execution_count": 2,
      "outputs": [
        {
          "output_type": "stream",
          "name": "stderr",
          "text": [
            "100%|██████████| 56/56 [00:13<00:00,  4.21it/s]\n",
            "100%|██████████| 51/51 [00:14<00:00,  3.47it/s]\n",
            "100%|██████████| 59/59 [00:15<00:00,  3.73it/s]\n",
            "100%|██████████| 15/15 [00:03<00:00,  3.95it/s]\n",
            "100%|██████████| 18/18 [00:04<00:00,  3.75it/s]\n",
            "100%|██████████| 4/4 [00:00<00:00,  4.19it/s]\n",
            "100%|██████████| 9/9 [00:02<00:00,  3.98it/s]\n",
            "100%|██████████| 15/15 [00:04<00:00,  3.57it/s]\n",
            "100%|██████████| 7/7 [00:01<00:00,  3.71it/s]\n",
            "100%|██████████| 7/7 [00:01<00:00,  3.98it/s]\n",
            "100%|██████████| 152/152 [00:01<00:00, 83.51it/s] \n",
            "100%|██████████| 41/41 [00:10<00:00,  3.83it/s]\n",
            "100%|██████████| 13/13 [00:03<00:00,  3.53it/s]\n",
            "100%|██████████| 64/64 [00:16<00:00,  3.85it/s]\n",
            "100%|██████████| 65/65 [00:16<00:00,  3.90it/s]\n",
            "100%|██████████| 22/22 [00:05<00:00,  3.72it/s]\n",
            "100%|██████████| 41/41 [00:09<00:00,  4.13it/s]\n",
            "100%|██████████| 13/13 [00:03<00:00,  3.88it/s]\n",
            "100%|██████████| 70/70 [00:17<00:00,  3.95it/s]\n",
            "100%|██████████| 16/16 [00:03<00:00,  4.17it/s]\n",
            "100%|██████████| 65/65 [00:16<00:00,  3.94it/s]\n",
            "100%|██████████| 37/37 [00:09<00:00,  4.09it/s]\n",
            "100%|██████████| 71/71 [00:17<00:00,  4.06it/s]\n",
            "100%|██████████| 86/86 [00:22<00:00,  3.77it/s]\n",
            "100%|██████████| 60/60 [00:14<00:00,  4.17it/s]\n",
            "100%|██████████| 20/20 [00:05<00:00,  4.00it/s]\n",
            "100%|██████████| 6/6 [00:01<00:00,  4.41it/s]\n",
            "100%|██████████| 52/52 [00:13<00:00,  3.86it/s]\n",
            "100%|██████████| 37/37 [00:09<00:00,  3.75it/s]\n",
            "100%|██████████| 44/44 [00:11<00:00,  3.76it/s]\n",
            "100%|██████████| 54/54 [00:13<00:00,  4.09it/s]\n",
            "100%|██████████| 13/13 [00:03<00:00,  3.61it/s]\n",
            "100%|██████████| 10/10 [00:02<00:00,  4.16it/s]\n",
            "100%|██████████| 13/13 [00:03<00:00,  3.68it/s]\n",
            "100%|██████████| 63/63 [00:12<00:00,  5.22it/s]\n"
          ]
        }
      ]
    },
    {
      "cell_type": "code",
      "source": [
        "from keras.layers import Input, Conv2D, MaxPooling2D, Flatten, Dense, ZeroPadding2D\n",
        "from keras.models import Model\n",
        "from keras.optimizers import Adam\n",
        "from keras.utils import to_categorical\n",
        "\n",
        "# Load file pickle\n",
        "pickle_in = open(\"X.pickle\", \"rb\")\n",
        "X = pickle.load(pickle_in)\n",
        "pickle_in = open(\"Y.pickle\", \"rb\")\n",
        "Y = pickle.load(pickle_in)\n",
        "Y = to_categorical(Y)\n",
        "X = X / 255.0\n",
        "width, height = 100, 100\n",
        "\n",
        "# Input layer\n",
        "inputs = Input(shape=(width, height, 3))\n",
        "conv_layer = ZeroPadding2D(padding=(2, 2))(inputs)\n",
        "conv_layer = Conv2D(16, (5, 5), strides=(1, 1), activation='relu')(conv_layer)\n",
        "conv_layer = MaxPooling2D((2, 2))(conv_layer)\n",
        "conv_layer = Conv2D(32, (3, 3), strides=(1, 1), activation='relu')(conv_layer)\n",
        "conv_layer = Conv2D(32, (3, 3), strides=(1, 1), activation='relu')(conv_layer)\n",
        "conv_layer = MaxPooling2D((2, 2))(conv_layer)\n",
        "conv_layer = Conv2D(64, (3, 3), strides=(1, 1), activation='relu')(conv_layer)\n",
        "flaten = Flatten()(conv_layer)\n",
        "fc_layer = Dense(256, activation='relu')(flaten)\n",
        "fc_layer = Dense(64, activation='relu')(fc_layer)\n",
        "\n",
        "# Output layer\n",
        "outputs = Dense(35, activation='softmax')(fc_layer)\n",
        "adam = Adam(learning_rate=0.0001)\n",
        "model = Model(inputs=inputs, outputs=outputs)\n",
        "model.compile(optimizer=adam, loss='categorical_crossentropy', metrics=['accuracy'])\n",
        "model.fit(X, Y, epochs=20, verbose=2)\n",
        "score = model.evaluate(X, Y)\n",
        "print(f\"Akurasi model: {score[1] * 100:.2f}%\")"
      ],
      "metadata": {
        "colab": {
          "base_uri": "https://localhost:8080/"
        },
        "id": "AZPAaH1u_eOt",
        "outputId": "49cd5c06-e4ba-4242-d653-7a3c5642f39e"
      },
      "execution_count": 3,
      "outputs": [
        {
          "output_type": "stream",
          "name": "stdout",
          "text": [
            "Epoch 1/20\n",
            "43/43 - 7s - loss: 3.1905 - accuracy: 0.1395 - 7s/epoch - 169ms/step\n",
            "Epoch 2/20\n",
            "43/43 - 1s - loss: 2.2690 - accuracy: 0.4032 - 501ms/epoch - 12ms/step\n",
            "Epoch 3/20\n",
            "43/43 - 1s - loss: 1.6072 - accuracy: 0.6092 - 535ms/epoch - 12ms/step\n",
            "Epoch 4/20\n",
            "43/43 - 1s - loss: 1.2083 - accuracy: 0.7202 - 515ms/epoch - 12ms/step\n",
            "Epoch 5/20\n",
            "43/43 - 0s - loss: 0.9315 - accuracy: 0.7684 - 454ms/epoch - 11ms/step\n",
            "Epoch 6/20\n",
            "43/43 - 0s - loss: 0.7279 - accuracy: 0.8159 - 444ms/epoch - 10ms/step\n",
            "Epoch 7/20\n",
            "43/43 - 0s - loss: 0.5365 - accuracy: 0.8605 - 447ms/epoch - 10ms/step\n",
            "Epoch 8/20\n",
            "43/43 - 0s - loss: 0.3953 - accuracy: 0.8963 - 450ms/epoch - 10ms/step\n",
            "Epoch 9/20\n",
            "43/43 - 0s - loss: 0.2960 - accuracy: 0.9211 - 441ms/epoch - 10ms/step\n",
            "Epoch 10/20\n",
            "43/43 - 0s - loss: 0.2100 - accuracy: 0.9394 - 448ms/epoch - 10ms/step\n",
            "Epoch 11/20\n",
            "43/43 - 0s - loss: 0.1410 - accuracy: 0.9627 - 446ms/epoch - 10ms/step\n",
            "Epoch 12/20\n",
            "43/43 - 0s - loss: 0.1077 - accuracy: 0.9766 - 449ms/epoch - 10ms/step\n",
            "Epoch 13/20\n",
            "43/43 - 0s - loss: 0.0763 - accuracy: 0.9847 - 443ms/epoch - 10ms/step\n",
            "Epoch 14/20\n",
            "43/43 - 0s - loss: 0.0515 - accuracy: 0.9883 - 448ms/epoch - 10ms/step\n",
            "Epoch 15/20\n",
            "43/43 - 0s - loss: 0.0522 - accuracy: 0.9883 - 448ms/epoch - 10ms/step\n",
            "Epoch 16/20\n",
            "43/43 - 0s - loss: 0.0378 - accuracy: 0.9920 - 450ms/epoch - 10ms/step\n",
            "Epoch 17/20\n",
            "43/43 - 0s - loss: 0.0240 - accuracy: 0.9949 - 444ms/epoch - 10ms/step\n",
            "Epoch 18/20\n",
            "43/43 - 0s - loss: 0.0134 - accuracy: 0.9985 - 445ms/epoch - 10ms/step\n",
            "Epoch 19/20\n",
            "43/43 - 0s - loss: 0.0056 - accuracy: 1.0000 - 451ms/epoch - 10ms/step\n",
            "Epoch 20/20\n",
            "43/43 - 0s - loss: 0.0229 - accuracy: 0.9949 - 447ms/epoch - 10ms/step\n",
            "43/43 [==============================] - 0s 6ms/step - loss: 0.0311 - accuracy: 0.9927\n",
            "Akurasi model: 99.27%\n"
          ]
        }
      ]
    },
    {
      "cell_type": "code",
      "source": [
        "model.summary()"
      ],
      "metadata": {
        "colab": {
          "base_uri": "https://localhost:8080/"
        },
        "id": "JxYWsB1cCH8C",
        "outputId": "a5b301ec-57d4-4683-a397-de99d4929bd5"
      },
      "execution_count": 5,
      "outputs": [
        {
          "output_type": "stream",
          "name": "stdout",
          "text": [
            "Model: \"model\"\n",
            "_________________________________________________________________\n",
            " Layer (type)                Output Shape              Param #   \n",
            "=================================================================\n",
            " input_1 (InputLayer)        [(None, 100, 100, 3)]     0         \n",
            "                                                                 \n",
            " zero_padding2d (ZeroPaddin  (None, 104, 104, 3)       0         \n",
            " g2D)                                                            \n",
            "                                                                 \n",
            " conv2d (Conv2D)             (None, 100, 100, 16)      1216      \n",
            "                                                                 \n",
            " max_pooling2d (MaxPooling2  (None, 50, 50, 16)        0         \n",
            " D)                                                              \n",
            "                                                                 \n",
            " conv2d_1 (Conv2D)           (None, 48, 48, 32)        4640      \n",
            "                                                                 \n",
            " conv2d_2 (Conv2D)           (None, 46, 46, 32)        9248      \n",
            "                                                                 \n",
            " max_pooling2d_1 (MaxPoolin  (None, 23, 23, 32)        0         \n",
            " g2D)                                                            \n",
            "                                                                 \n",
            " conv2d_3 (Conv2D)           (None, 21, 21, 64)        18496     \n",
            "                                                                 \n",
            " flatten (Flatten)           (None, 28224)             0         \n",
            "                                                                 \n",
            " dense (Dense)               (None, 256)               7225600   \n",
            "                                                                 \n",
            " dense_1 (Dense)             (None, 64)                16448     \n",
            "                                                                 \n",
            " dense_2 (Dense)             (None, 35)                2275      \n",
            "                                                                 \n",
            "=================================================================\n",
            "Total params: 7277923 (27.76 MB)\n",
            "Trainable params: 7277923 (27.76 MB)\n",
            "Non-trainable params: 0 (0.00 Byte)\n",
            "_________________________________________________________________\n"
          ]
        }
      ]
    },
    {
      "cell_type": "code",
      "source": [
        "model.save('/content/drive/MyDrive/Colab Notebooks/Computer Vision/Tugas Akhir OCR/charv2.h5')"
      ],
      "metadata": {
        "id": "8yPAbGxeF5o4",
        "colab": {
          "base_uri": "https://localhost:8080/"
        },
        "outputId": "9eda3ff6-5e75-4b92-89b5-8fa1ad81d48c"
      },
      "execution_count": 6,
      "outputs": [
        {
          "output_type": "stream",
          "name": "stderr",
          "text": [
            "/usr/local/lib/python3.10/dist-packages/keras/src/engine/training.py:3103: UserWarning: You are saving your model as an HDF5 file via `model.save()`. This file format is considered legacy. We recommend using instead the native Keras format, e.g. `model.save('my_model.keras')`.\n",
            "  saving_api.save_model(\n"
          ]
        }
      ]
    }
  ]
}